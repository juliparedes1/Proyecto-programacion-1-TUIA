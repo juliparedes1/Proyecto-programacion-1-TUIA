{
  "nbformat": 4,
  "nbformat_minor": 0,
  "metadata": {
    "colab": {
      "provenance": [],
      "include_colab_link": true
    },
    "kernelspec": {
      "name": "python3",
      "display_name": "Python 3"
    },
    "language_info": {
      "name": "python"
    }
  },
  "cells": [
    {
      "cell_type": "markdown",
      "metadata": {
        "id": "view-in-github",
        "colab_type": "text"
      },
      "source": [
        "<a href=\"https://colab.research.google.com/github/juliparedes1/Proyecto-programacion-1-TUIA/blob/main/ETAPA_1_PROYECTO_PROGRAMACION.ipynb\" target=\"_parent\"><img src=\"https://colab.research.google.com/assets/colab-badge.svg\" alt=\"Open In Colab\"/></a>"
      ]
    },
    {
      "cell_type": "markdown",
      "source": [
        "# **Trabajo Práctico: La Gran Prueba de Sabor**"
      ],
      "metadata": {
        "id": "30YDqdtQaJ7t"
      }
    },
    {
      "cell_type": "markdown",
      "source": [
        "# **Presentación**"
      ],
      "metadata": {
        "id": "kD51BN7fa-5o"
      }
    },
    {
      "cell_type": "markdown",
      "source": [
        "\n",
        "\n",
        "**Una consultora** ha sido contratada para realizar un **análisis de mercado** y **proporcionar recomendaciones estratégicas** para la apertura de una cafetería en EE.UU.  \n",
        "\n",
        "Se le solicitó llevar a cabo un estudio utilizando los datos de la encuesta [**\"La Gran Prueba de Sabor\"**](https://raw.githubusercontent.com/rfordatascience/tidytuesday/refs/heads/main/data/2024/2024-05-14/coffee_survey.csv), con el fin de extraer información sobre las preferencias de los consumidores y ayudar al grupo inversor a diseñar una estrategia informada para su incursión en el sector. Esta encuesta la realizó el famoso barista *James Hoffmann* en octubre de 2023, durante una transmisión en vivo con unas *4.000 personas* en Estados Unidos."
      ],
      "metadata": {
        "id": "_bzm6AUF_YAV"
      }
    },
    {
      "cell_type": "markdown",
      "source": [
        "#**Objetivo del Proyecto Final**"
      ],
      "metadata": {
        "id": "Br79pffQKlt2"
      }
    },
    {
      "cell_type": "markdown",
      "source": [
        "En este Proyecto Final, el alumno asumirá el rol de consultor y aplicará todos los conocimientos adquiridos en la materia. Deberá demostrar un uso adecuado de los elementos y construcciones del lenguaje de programación mediante la lectura, manipulación y análisis de los datos de la encuesta, así como proporcionar información útil para el inversor."
      ],
      "metadata": {
        "id": "t2HFCj2pKfUk"
      }
    },
    {
      "cell_type": "markdown",
      "source": [
        "#**Consignas**\n"
      ],
      "metadata": {
        "id": "HW56gaavK-qY"
      }
    },
    {
      "cell_type": "markdown",
      "source": [
        "## **Etapa 0.**\n",
        "**Conociendo los datos**"
      ],
      "metadata": {
        "id": "MomwFIBxqPre"
      }
    },
    {
      "cell_type": "markdown",
      "source": [
        "\n",
        "**1-** Descargar el archivo de la encuesta ejecutando el código que se propone a continuación.\n",
        "\n",
        "**2-** Una vez descargado el archivos analice su contenido. ¿Qué información brinda de cada persona encuestada? ¿Todos los encuestados respondieron a todas las preguntas?  "
      ],
      "metadata": {
        "id": "W0kCNUbtaGl6"
      }
    },
    {
      "cell_type": "code",
      "source": [
        "#No modificar este código que le permitirá bajar el archivo que necesita para trabajar\n",
        "\n",
        "import requests\n",
        "\n",
        "url_coffee_survey = \"https://raw.githubusercontent.com/rfordatascience/tidytuesday/refs/heads/main/data/2024/2024-05-14/coffee_survey.csv\"\n",
        "archivo_salida_coffee_survey = \"coffee_survey.csv\"\n",
        "\n",
        "def descargarCSV(url, archivo_salida):\n",
        "    print(\"Descargando archivo...\")\n",
        "    consulta = requests.get(url)\n",
        "    contenido = consulta.content\n",
        "\n",
        "    print(\"Guardando archivo...\")\n",
        "    # Abrir conexion en modo escritura\n",
        "    with open(archivo_salida, \"w\", encoding=\"utf-8\") as archivo:\n",
        "        # Escribir el contenido de la consulta\n",
        "        archivo.write(contenido.decode(\"utf-8\"))\n",
        "\n",
        "    print(\"¡Archivo descargado con éxito!\")\n",
        "\n",
        "descargarCSV(url_coffee_survey,archivo_salida_coffee_survey)\n"
      ],
      "metadata": {
        "id": "4DvH8h35rsmJ",
        "colab": {
          "base_uri": "https://localhost:8080/"
        },
        "outputId": "2a72ff6c-838b-484c-bfd8-9759eeaa942a"
      },
      "execution_count": null,
      "outputs": [
        {
          "output_type": "stream",
          "name": "stdout",
          "text": [
            "Descargando archivo...\n",
            "Guardando archivo...\n",
            "¡Archivo descargado con éxito!\n"
          ]
        }
      ]
    },
    {
      "cell_type": "markdown",
      "source": [
        "## **Etapa 1.**\n",
        "**Analizando las respuestas**"
      ],
      "metadata": {
        "id": "A6roneYcTeeI"
      }
    },
    {
      "cell_type": "markdown",
      "source": [
        "**3-** Analice la columna *'age'* que indica el rango de edad del encuestado. ¿Qué cantidad de los encuestados que brindaron esta información pertenecen a los rangos *'<18 years old'*, *'18-24 years old'*, *'25-34 years old'*, *'35-44 years old'*, *'45-54 years old'*, *'55-64 years old'* y *'>65 years old'*, respectivamente? Para responder a esta pregunta implemente una función **contar_rangos_edad** que reciba el nombre del archivo de datos de la encuesta y devuelva un diccionario que le ayude a contar la cantidad de respuestas de cada rango etario."
      ],
      "metadata": {
        "id": "yeV4yfsUjXxJ"
      }
    },
    {
      "cell_type": "code",
      "source": [
        "import csv\n",
        "coffe_survey = open(\"coffee_survey.csv\",\"r\")\n",
        "def contar_rangos_edad(csv_datos:list)->dict:\n",
        "  \"\"\"\n",
        "  recibe el nombre del archivo de datos de la encuesta y devuelva un diccionario que le ayude a contar la cantidad de respuestas de cada rango etario.\n",
        "  \"\"\"\n",
        "  pass\n",
        "rangos_de_edad={\"<18 years old\":0,\"18-24 years old\":0,\"25-34 years old\":0,\"35-44 years old\":0,\"45-54 years old\":0,\"55-64 years old\":0,\">65 years old\":0}\n",
        "lector = list(csv.reader(coffe_survey))\n",
        "bandera = 0\n",
        "for fila in lector:\n",
        "  if bandera !=0:\n",
        "    if fila[1].lower()== \"na\":\n",
        "      continue\n",
        "    rangos_de_edad[fila[1]] += 1\n",
        "  bandera = 1\n",
        "print(rangos_de_edad)\n",
        "print(sum(rangos_de_edad.values()))\n"
      ],
      "metadata": {
        "colab": {
          "base_uri": "https://localhost:8080/"
        },
        "id": "mBebXzgOhQAr",
        "outputId": "325325fe-a291-4b05-a0d8-4cb416c7c2a2"
      },
      "execution_count": null,
      "outputs": [
        {
          "output_type": "stream",
          "name": "stdout",
          "text": [
            "{'<18 years old': 20, '18-24 years old': 461, '25-34 years old': 1986, '35-44 years old': 960, '45-54 years old': 302, '55-64 years old': 187, '>65 years old': 95}\n",
            "4011\n"
          ]
        }
      ]
    },
    {
      "cell_type": "code",
      "source": [
        "import csv\n",
        "\n",
        "# Defina una función que le sirva para manipular los datos del archivo\n",
        "\n",
        "# Consigna 3: Analizar la columna 'age'\n",
        "def contar_rangos_edad(nombre_archivo:str) -> dict[str,int]:\n",
        "  archivo = open( nombre_archivo ,\"r\")\n",
        "  lector = list(csv.reader(archivo))\n",
        "  \"\"\"\n",
        "  recibe el nombre del archivo de datos de la encuesta y devuelva un diccionario que le ayude a contar la cantidad de respuestas de cada rango etario.\n",
        "  \"\"\"\n",
        "  conteo = {\"<18 years old\":0,\"18-24 years old\":0,\"25-34 years old\":0,\"35-44 years old\":0,\"45-54 years old\":0,\"55-64 years old\":0,\">65 years old\":0}\n",
        "  bandera = 0\n",
        "  for fila in lector:\n",
        "    print(fila)\n",
        "    if bandera !=0:\n",
        "      if fila[1].lower() == \"na\":\n",
        "        continue\n",
        "      conteo[fila[1]] += 1\n",
        "    bandera = 1\n",
        "  archivo.close()\n",
        "  return conteo\n",
        "\n",
        "\n",
        "\n",
        "# Prueba\n",
        "print(\"Conteo de rangos de edad:\", contar_rangos_edad(\"coffee_survey.csv\"))\n",
        "\n",
        "#Respuesta:\n",
        "#Conteo de rangos de edad: {'18-24 years old': 461, '25-34 years old': 1986, '35-44 years old': 960, '55-64 years old': 187, '<18 years old': 20, '>65 years old': 95, '45-54 years old': 302}\n"
      ],
      "metadata": {
        "id": "hNCBxnSzjmit"
      },
      "execution_count": null,
      "outputs": []
    },
    {
      "cell_type": "markdown",
      "source": [
        "**4-** Analice la columna *'where_drink'* que indica dónde toman café los encuestados. ¿Qué diferencia encuentra entre esta columna de la anterior? ¿Qué cantidad de los encuestados que respondieron a esta pregunta toman el café *'On the go'*, *'At a cafe'*, *'At the office'*, *'At home'*, *'None of these'*, respectivamente?  Para responder a esta pregunta implemente una función **contar_lugares_consumo** que reciba el nombre del archivo de datos de la encuesta y devuelva un diccionario que le ayude a contar la cantidad de respuestas de cada lugar de consumo."
      ],
      "metadata": {
        "id": "GlqQekzGjb8M"
      }
    },
    {
      "cell_type": "code",
      "source": [
        "# Consigna 4: Analizar la columna 'where_drink'\n",
        "def contar_lugares_consumo(nombre_archivo:str) -> dict[str,int]:\n",
        "  \"\"\"\n",
        "  recibe el nombre del archivo de datos de la encuesta y devuelve un diccionario\n",
        "  que encuentra la cantidad de respuestas de cada lugar de consumo.\n",
        "  \"\"\"\n",
        "  conteo = {}\n",
        "  archivo = open(nombre_archivo,\"r\")\n",
        "  lector = list(csv.reader(archivo))\n",
        "  bandera = 0\n",
        "  for fila in lector:\n",
        "    if bandera != 0:\n",
        "      if fila[3].lower() == \"na\":\n",
        "        continue\n",
        "      lista_datos = fila[3].split(\",\")#algunas personas eligieron mas de un lugar, en ese caso se utiliza el split para tener todos por separados\n",
        "      if len(lista_datos) == 1:#si el lugar es unico entonces se continua de forma normal\n",
        "        dato_unico_a_ingresar = fila[3].strip()#el strip nos evita problemas en caso de la existencia de algun espacio de mas que ande suelto en las respuestas\n",
        "        if conteo.get(dato_unico_a_ingresar) == None:#si el lugar no existe dentro del diccionario, lo crea o le suma uno si es que si existe\n",
        "          conteo[dato_unico_a_ingresar] = 1\n",
        "        else:\n",
        "          conteo[dato_unico_a_ingresar] +=1\n",
        "      else:#en el caso de que no sea unico el lugar entonces se agrega cada una de sus votos a sus elecciones correspondientes\n",
        "        for lugar_unico in lista_datos:\n",
        "          lugar_unico = lugar_unico.strip()\n",
        "          if conteo.get(lugar_unico) == None:\n",
        "            conteo[lugar_unico] = 1\n",
        "          else:\n",
        "            conteo[lugar_unico] +=1\n",
        "\n",
        "    bandera = 1\n",
        "  archivo.close()\n",
        "\n",
        "\n",
        "  #completar para responder a la consigna\n",
        "\n",
        "  return conteo\n",
        "\n",
        "# Prueba\n",
        "#print(\"Conteo de lugares de consumo:\", contar_lugares_consumo(\"coffee_survey.csv\"))\n",
        "rta = contar_lugares_consumo(\"coffee_survey.csv\")\n",
        "for k,v in rta.items():\n",
        "  print(f\"{k}:{v}\")\n",
        "#Respuesta:\n",
        "#Conteo de lugares de consumo: {'On the go': 705, 'At a cafe': 1170, 'At the office': 1430, 'At home': 3644, 'None of these': 36}\n"
      ],
      "metadata": {
        "id": "-bs9K87HjqVr",
        "colab": {
          "base_uri": "https://localhost:8080/"
        },
        "outputId": "e927d0e8-d715-4691-9b44-714b004d5e86"
      },
      "execution_count": null,
      "outputs": [
        {
          "output_type": "stream",
          "name": "stdout",
          "text": [
            "At a cafe:1170\n",
            "At the office:1430\n",
            "At home:3644\n",
            "On the go:705\n",
            "None of these:36\n"
          ]
        }
      ]
    },
    {
      "cell_type": "markdown",
      "source": [
        "**5-** Analicen los códigos propuestos para responder a las consignas **3** y **4**. Son similares, ¿verdad? Proponga una función **procesamiento_columna**, que recibiendo el nombre del archivo y el nombre de la columna a analizar, sirva para resolver los dos casos anteriores. La función debe devolver un diccionario con las cantidades asociadas a cada uno de los valores posibles de las respuestas brindadas por los encuestados.\n"
      ],
      "metadata": {
        "id": "yaVOSGmTjgAf"
      }
    },
    {
      "cell_type": "code",
      "source": [
        "# Consigna 5: Función procesamiento_columna\n",
        "def procesamiento_columna(nombre_archivo: str, columna:str) -> dict[str,int]:\n",
        "  conteo = {}\n",
        "  archivo = open(nombre_archivo,\"r\")\n",
        "  lector = list(csv.reader(archivo))\n",
        "  bandera = 0\n",
        "  columnas = lector[0]\n",
        "  try:\n",
        "    columna_a_encuestar = columnas.index(columna.lower()) #esta linea nos devuelve el nombre de la columna a realizar la encuesta\n",
        "  except ValueError:\n",
        "    return(\"NO EXISTE ESA COLUMNA\")\n",
        "  for fila in lector:\n",
        "    if bandera != 0:\n",
        "      if fila[columna_a_encuestar].lower() == \"na\":\n",
        "        continue\n",
        "      lista_datos = fila[columna_a_encuestar].split(\",\")#algunas personas eligieron mas de un lugar, en ese caso se utiliza el split para tener todos por separados\n",
        "      if len(lista_datos) == 1:#si el lugar es unico entonces se continua de forma normal\n",
        "        dato_unico_a_ingresar = fila[columna_a_encuestar].strip()#el strip nos evita problemas en caso de la existencia de algun espacio de mas que ande suelto en las respuestas\n",
        "        if conteo.get(dato_unico_a_ingresar) == None:#si el lugar no existe dentro del diccionario, lo crea o le suma uno si es que si existe\n",
        "          conteo[dato_unico_a_ingresar] = 1\n",
        "        else:\n",
        "          conteo[dato_unico_a_ingresar] +=1\n",
        "      else:#en el caso de que no sea unico el lugar entonces se agrega cada una de sus votos a sus elecciones correspondientes\n",
        "        for lugar_unico in lista_datos:\n",
        "          lugar_unico = lugar_unico.strip()\n",
        "          if conteo.get(lugar_unico) == None:\n",
        "            conteo[lugar_unico] = 1\n",
        "          else:\n",
        "            conteo[lugar_unico] +=1\n",
        "\n",
        "    bandera = 1\n",
        "  archivo.close()\n",
        "\n",
        "  #completar para responder a la consigna\n",
        "\n",
        "  return conteo\n",
        "\n",
        "# Prueba\n",
        "print(\"Conteo de rangos de edad:\", procesamiento_columna(\"coffee_survey.csv\",\"age\"))\n",
        "print(\"Conteo de lugares de consumo:\", procesamiento_columna(\"coffee_survey.csv\",\"where_drink\"))\n",
        "\n",
        "#Respuestas:\n",
        "#Conteo de rangos de edad: {'18-24 years old': 461, '25-34 years old': 1986, '35-44 years old': 960, '55-64 years old': 187, '<18 years old': 20, '>65 years old': 95, '45-54 years old': 302}\n",
        "#Conteo de lugares de consumo: {'At a cafe': 1170, 'At the office': 1430, 'At home': 3644, 'On the go': 705, 'None of these': 36}\n"
      ],
      "metadata": {
        "id": "y2vJDeUTjuuP",
        "colab": {
          "base_uri": "https://localhost:8080/"
        },
        "outputId": "d53331a1-db0f-46f7-be20-dc3dcea14be5"
      },
      "execution_count": null,
      "outputs": [
        {
          "output_type": "stream",
          "name": "stdout",
          "text": [
            "Conteo de rangos de edad: {'18-24 years old': 461, '25-34 years old': 1986, '35-44 years old': 960, '55-64 years old': 187, '<18 years old': 20, '>65 years old': 95, '45-54 years old': 302}\n",
            "Conteo de lugares de consumo: {'At a cafe': 1170, 'At the office': 1430, 'At home': 3644, 'On the go': 705, 'None of these': 36}\n"
          ]
        }
      ]
    },
    {
      "cell_type": "markdown",
      "source": [
        "\n",
        "\n",
        "\n",
        "\n",
        "**6-** Pruebe la función anterior, analizando las columnas *'cups'* y *'brew'*. ¿Funciona?"
      ],
      "metadata": {
        "id": "4TBk75dHTbY-"
      }
    },
    {
      "cell_type": "code",
      "source": [
        "\n",
        "# Prueba\n",
        "# Complete para que la respuestas sean las que figuran aqui debajo\n",
        "print(\"Conteo de rangos de edad:\", procesamiento_columna(\"coffee_survey.csv\",\"cups\"))\n",
        "print(\"Conteo de rangos de edad:\", procesamiento_columna(\"coffee_survey.csv\",\"brew\"))\n",
        "\n",
        "\n",
        "\n",
        "#Respuestas esperadas:\n",
        "#Conteo de cups: {'Less than 1': 348, '2': 1663, '1': 1277, '3': 473, 'More than 4': 67, '4': 121}\n",
        "#Conteo de brew: {'Pod/capsule machine (e.g. Keurig/Nespresso)': 336, 'Bean-to-cup machine': 84, 'Coffee brewing machine (e.g. Mr. Coffee)': 663, 'Pour over': 2295, 'Espresso': 1518, 'French press': 735, 'Instant coffee': 130, 'Other': 677, 'Coffee extract (e.g. Cometeer)': 186, 'Cold brew': 525}\n"
      ],
      "metadata": {
        "id": "_EzjWj8ZXewE",
        "colab": {
          "base_uri": "https://localhost:8080/"
        },
        "outputId": "7dff6b66-7a7d-41e1-cf96-e91a965ff315"
      },
      "execution_count": null,
      "outputs": [
        {
          "output_type": "stream",
          "name": "stdout",
          "text": [
            "Conteo de rangos de edad: {'Less than 1': 348, '2': 1663, '1': 1277, '3': 473, 'More than 4': 67, '4': 121}\n",
            "Conteo de rangos de edad: {'Pod/capsule machine (e.g. Keurig/Nespresso)': 336, 'Bean-to-cup machine': 84, 'Coffee brewing machine (e.g. Mr. Coffee)': 663, 'Pour over': 2295, 'Espresso': 1518, 'French press': 735, 'Instant coffee': 130, 'Other': 677, 'Coffee extract (e.g. Cometeer)': 186, 'Cold brew': 525}\n"
          ]
        }
      ]
    }
  ]
}