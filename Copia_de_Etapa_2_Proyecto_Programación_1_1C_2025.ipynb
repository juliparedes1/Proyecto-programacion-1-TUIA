{
  "nbformat": 4,
  "nbformat_minor": 0,
  "metadata": {
    "colab": {
      "provenance": [],
      "include_colab_link": true
    },
    "kernelspec": {
      "name": "python3",
      "display_name": "Python 3"
    },
    "language_info": {
      "name": "python"
    }
  },
  "cells": [
    {
      "cell_type": "markdown",
      "metadata": {
        "id": "view-in-github",
        "colab_type": "text"
      },
      "source": [
        "<a href=\"https://colab.research.google.com/github/juliparedes1/Proyecto-programacion-1-TUIA/blob/main/Copia_de_Etapa_2_Proyecto_Programacio%CC%81n_1_1C_2025.ipynb\" target=\"_parent\"><img src=\"https://colab.research.google.com/assets/colab-badge.svg\" alt=\"Open In Colab\"/></a>"
      ]
    },
    {
      "cell_type": "markdown",
      "source": [
        "# **Trabajo Práctico: La Gran Prueba de Sabor**"
      ],
      "metadata": {
        "id": "30YDqdtQaJ7t"
      }
    },
    {
      "cell_type": "markdown",
      "source": [
        "# **Presentación**"
      ],
      "metadata": {
        "id": "kD51BN7fa-5o"
      }
    },
    {
      "cell_type": "markdown",
      "source": [
        "\n",
        "\n",
        "**Una consultora** ha sido contratada para realizar un **análisis de mercado** y **proporcionar recomendaciones estratégicas** para la apertura de una cafetería en EE.UU.  \n",
        "\n",
        "Se le solicitó llevar a cabo un estudio utilizando los datos de la encuesta [**\"La Gran Prueba de Sabor\"**](https://raw.githubusercontent.com/rfordatascience/tidytuesday/refs/heads/main/data/2024/2024-05-14/coffee_survey.csv), con el fin de extraer información sobre las preferencias de los consumidores y ayudar al grupo inversor a diseñar una estrategia informada para su incursión en el sector. Esta encuesta la realizó el famoso barista *James Hoffmann* en octubre de 2023, durante una transmisión en vivo con unas *4.000 personas* en Estados Unidos."
      ],
      "metadata": {
        "id": "_bzm6AUF_YAV"
      }
    },
    {
      "cell_type": "markdown",
      "source": [
        "#**Objetivo del Proyecto Final**"
      ],
      "metadata": {
        "id": "Br79pffQKlt2"
      }
    },
    {
      "cell_type": "markdown",
      "source": [
        "En este Proyecto Final, el alumno asumirá el rol de consultor y aplicará todos los conocimientos adquiridos en la materia. Deberá demostrar un uso adecuado de los elementos y construcciones del lenguaje de programación mediante la lectura, manipulación y análisis de los datos de la encuesta, así como proporcionar información útil para el inversor."
      ],
      "metadata": {
        "id": "t2HFCj2pKfUk"
      }
    },
    {
      "cell_type": "markdown",
      "source": [
        "#**Consignas**\n"
      ],
      "metadata": {
        "id": "HW56gaavK-qY"
      }
    },
    {
      "cell_type": "markdown",
      "source": [
        "## **Etapa 0.**\n",
        "**Conociendo los datos**"
      ],
      "metadata": {
        "id": "MomwFIBxqPre"
      }
    },
    {
      "cell_type": "markdown",
      "source": [
        "\n",
        "**1-** Descargar el archivo de la encuesta ejecutando el código que se propone a continuación.\n",
        "\n",
        "**2-** Una vez descargado el archivos analice su contenido. ¿Qué información brinda de cada persona encuestada? ¿Todos los encuestados respondieron a todas las preguntas?  "
      ],
      "metadata": {
        "id": "W0kCNUbtaGl6"
      }
    },
    {
      "cell_type": "code",
      "source": [
        "#No modificar este código que le permitirá bajar el archivo que necesita para trabajar\n",
        "\n",
        "import requests\n",
        "\n",
        "url_coffee_survey = \"https://raw.githubusercontent.com/rfordatascience/tidytuesday/refs/heads/main/data/2024/2024-05-14/coffee_survey.csv\"\n",
        "archivo_salida_coffee_survey = \"coffee_survey.csv\"\n",
        "\n",
        "def descargarCSV(url, archivo_salida):\n",
        "    print(\"Descargando archivo...\")\n",
        "    consulta = requests.get(url)\n",
        "    contenido = consulta.content\n",
        "\n",
        "    print(\"Guardando archivo...\")\n",
        "    # Abrir conexion en modo escritura\n",
        "    with open(archivo_salida, \"w\", encoding=\"utf-8\") as archivo:\n",
        "        # Escribir el contenido de la consulta\n",
        "        archivo.write(contenido.decode(\"utf-8\"))\n",
        "\n",
        "    print(\"¡Archivo descargado con éxito!\")\n",
        "\n",
        "descargarCSV(url_coffee_survey,archivo_salida_coffee_survey)\n",
        "import csv\n"
      ],
      "metadata": {
        "id": "4DvH8h35rsmJ",
        "colab": {
          "base_uri": "https://localhost:8080/"
        },
        "outputId": "253c86af-c6ae-4a91-a093-51ad163e72c6"
      },
      "execution_count": 7,
      "outputs": [
        {
          "output_type": "stream",
          "name": "stdout",
          "text": [
            "Descargando archivo...\n",
            "Guardando archivo...\n",
            "¡Archivo descargado con éxito!\n"
          ]
        }
      ]
    },
    {
      "cell_type": "markdown",
      "source": [
        "## **Etapa 1.**\n",
        "**Analizando las respuestas**"
      ],
      "metadata": {
        "id": "A6roneYcTeeI"
      }
    },
    {
      "cell_type": "markdown",
      "source": [
        "**3-** Analice la columna *'age'* que indica el rango de edad del encuestado. ¿Qué cantidad de los encuestados que brindaron esta información pertenecen a los rangos *'<18 years old'*, *'18-24 years old'*, *'25-34 years old'*, *'35-44 years old'*, *'45-54 years old'*, *'55-64 years old'* y *'>65 years old'*, respectivamente? Para responder a esta pregunta implemente una función **contar_rangos_edad** que reciba el nombre del archivo de datos de la encuesta y devuelva un diccionario que le ayude a contar la cantidad de respuestas de cada rango etario."
      ],
      "metadata": {
        "id": "yeV4yfsUjXxJ"
      }
    },
    {
      "cell_type": "code",
      "source": [
        "import csv\n",
        "\n",
        "# Defina una función que le sirva para manipular los datos del archivo\n",
        "\n",
        "# Consigna 3: Analizar la columna 'age'\n",
        "def contar_rangos_edad(nombre_archivo:str) -> dict[str,int]:\n",
        "\n",
        "  conteo = {}\n",
        "\n",
        "  #completar para responder a la consigna\n",
        "\n",
        "  return conteo\n",
        "\n",
        "# Prueba\n",
        "#print(\"Conteo de rangos de edad:\", contar_rangos_edad(\"coffee_survey.csv\"))\n",
        "\n",
        "#Respuesta:\n",
        "#Conteo de rangos de edad: {'18-24 years old': 461, '25-34 years old': 1986, '35-44 years old': 960, '55-64 years old': 187, '<18 years old': 20, '>65 years old': 95, '45-54 years old': 302}\n"
      ],
      "metadata": {
        "id": "hNCBxnSzjmit"
      },
      "execution_count": null,
      "outputs": []
    },
    {
      "cell_type": "markdown",
      "source": [
        "**4-** Analice la columna *'where_drink'* que indica dónde toman café los encuestados. ¿Qué diferencia encuentra entre esta columna de la anterior? ¿Qué cantidad de los encuestados que respondieron a esta pregunta toman el café *'On the go'*, *'At a cafe'*, *'At the office'*, *'At home'*, *'None of these'*, respectivamente?  Para responder a esta pregunta implemente una función **contar_lugares_consumo** que reciba el nombre del archivo de datos de la encuesta y devuelva un diccionario que le ayude a contar la cantidad de respuestas de cada lugar de consumo."
      ],
      "metadata": {
        "id": "GlqQekzGjb8M"
      }
    },
    {
      "cell_type": "code",
      "source": [
        "# Consigna 4: Analizar la columna 'where_drink'\n",
        "def contar_lugares_consumo(nombre_archivo:str) -> dict[str,int]:\n",
        "  conteo = {}\n",
        "\n",
        "  #completar para responder a la consigna\n",
        "\n",
        "  return conteo\n",
        "\n",
        "# Prueba\n",
        "#print(\"Conteo de lugares de consumo:\", contar_lugares_consumo(\"coffee_survey.csv\"))\n",
        "\n",
        "#Respuesta:\n",
        "#Conteo de lugares de consumo: {'On the go': 705, 'At a cafe': 1170, 'At the office': 1430, 'At home': 3644, 'None of these': 36}\n"
      ],
      "metadata": {
        "id": "-bs9K87HjqVr"
      },
      "execution_count": null,
      "outputs": []
    },
    {
      "cell_type": "markdown",
      "source": [
        "**5-** Analicen los códigos propuestos para responder a las consignas **3** y **4**. Son similares, ¿verdad? Proponga una función **procesamiento_columna**, que recibiendo el nombre del archivo y el nombre de la columna a analizar, sirva para resolver los dos casos anteriores. La función debe devolver un diccionario con las cantidades asociadas a cada uno de los valores posibles de las respuestas brindadas por los encuestados.\n"
      ],
      "metadata": {
        "id": "yaVOSGmTjgAf"
      }
    },
    {
      "cell_type": "code",
      "source": [
        "# Consigna 5: Función procesamiento_columna\n",
        "def procesamiento_columna(nombre_archivo: str, columna:str) -> dict[str,int]:\n",
        "  conteo = {}\n",
        "  archivo = open(nombre_archivo,\"r\")\n",
        "  lector = list(csv.reader(archivo))\n",
        "  bandera = 0\n",
        "  columnas = lector[0]\n",
        "  try:\n",
        "    columna_a_encuestar = columnas.index(columna.lower()) #esta linea nos devuelve el nombre de la columna a realizar la encuesta\n",
        "  except ValueError:\n",
        "    return(\"NO EXISTE ESA COLUMNA\")\n",
        "  for fila in lector:\n",
        "    if bandera != 0:\n",
        "      if fila[columna_a_encuestar].lower() == \"na\":\n",
        "        continue\n",
        "      lista_datos = fila[columna_a_encuestar].split(\",\")#algunas personas eligieron mas de un lugar, en ese caso se utiliza el split para tener todos por separados\n",
        "      if len(lista_datos) == 1:#si el lugar es unico entonces se continua de forma normal\n",
        "        dato_unico_a_ingresar = fila[columna_a_encuestar].strip()#el strip nos evita problemas en caso de la existencia de algun espacio de mas que ande suelto en las respuestas\n",
        "        if conteo.get(dato_unico_a_ingresar) == None:#si el lugar no existe dentro del diccionario, lo crea o le suma uno si es que si existe\n",
        "          conteo[dato_unico_a_ingresar] = 1\n",
        "        else:\n",
        "          conteo[dato_unico_a_ingresar] +=1\n",
        "      else:#en el caso de que no sea unico el lugar entonces se agrega cada una de sus votos a sus elecciones correspondientes\n",
        "        for lugar_unico in lista_datos:\n",
        "          lugar_unico = lugar_unico.strip()\n",
        "          if conteo.get(lugar_unico) == None:\n",
        "            conteo[lugar_unico] = 1\n",
        "          else:\n",
        "            conteo[lugar_unico] +=1\n",
        "\n",
        "    bandera = 1\n",
        "  archivo.close()\n",
        "\n",
        "  #completar para responder a la consigna\n",
        "\n",
        "  return conteo\n",
        "\n",
        "# Prueba\n",
        "print(\"Conteo de rangos de edad:\", procesamiento_columna(\"coffee_survey.csv\",\"age\"))\n",
        "print(\"Conteo de lugares de consumo:\", procesamiento_columna(\"coffee_survey.csv\",\"where_drink\"))\n",
        "# Prueba\n",
        "#print(\"Conteo de rangos de edad:\", procesamiento_columna(\"coffee_survey.csv\",\"age\"))\n",
        "#print(\"Conteo de lugares de consumo:\", procesamiento_columna(\"coffee_survey.csv\",\"where_drink\"))\n",
        "\n",
        "#Respuestas:\n",
        "#Conteo de rangos de edad: {'18-24 years old': 461, '25-34 years old': 1986, '35-44 years old': 960, '55-64 years old': 187, '<18 years old': 20, '>65 years old': 95, '45-54 years old': 302}\n",
        "#Conteo de lugares de consumo: {'At a cafe': 1170, 'At the office': 1430, 'At home': 3644, 'On the go': 705, 'None of these': 36}\n"
      ],
      "metadata": {
        "id": "y2vJDeUTjuuP",
        "colab": {
          "base_uri": "https://localhost:8080/"
        },
        "outputId": "9729a701-abea-4af0-bb9b-d6967738562f"
      },
      "execution_count": null,
      "outputs": [
        {
          "output_type": "stream",
          "name": "stdout",
          "text": [
            "Conteo de rangos de edad: {'18-24 years old': 461, '25-34 years old': 1986, '35-44 years old': 960, '55-64 years old': 187, '<18 years old': 20, '>65 years old': 95, '45-54 years old': 302}\n",
            "Conteo de lugares de consumo: {'At a cafe': 1170, 'At the office': 1430, 'At home': 3644, 'On the go': 705, 'None of these': 36}\n"
          ]
        }
      ]
    },
    {
      "cell_type": "markdown",
      "source": [
        "\n",
        "\n",
        "\n",
        "\n",
        "**6-** Pruebe la función anterior, analizando las columnas *'cups'* y *'brew'*. ¿Funciona?"
      ],
      "metadata": {
        "id": "4TBk75dHTbY-"
      }
    },
    {
      "cell_type": "code",
      "source": [
        "archivo = open(\"coffee_survey.csv\",\"r\")\n",
        "lector = list(csv.reader(archivo))\n",
        "print(lector[0].index(\"purchase\"))"
      ],
      "metadata": {
        "colab": {
          "base_uri": "https://localhost:8080/"
        },
        "id": "727KuxMdQy-o",
        "outputId": "ee16d86c-0fb5-4328-e5f9-eee7957101b5"
      },
      "execution_count": 8,
      "outputs": [
        {
          "output_type": "stream",
          "name": "stdout",
          "text": [
            "6\n"
          ]
        }
      ]
    },
    {
      "cell_type": "code",
      "source": [
        "\n",
        "for fila in lector[1:30]:\n",
        "  print(fila)\n",
        "\n"
      ],
      "metadata": {
        "colab": {
          "base_uri": "https://localhost:8080/"
        },
        "id": "I5MwS3AWOm5n",
        "outputId": "02b27031-b9cc-430b-cfb7-f8c3aa3c9433"
      },
      "execution_count": 9,
      "outputs": [
        {
          "output_type": "stream",
          "name": "stdout",
          "text": [
            "['gMR29l', '18-24 years old', 'NA', 'NA', 'NA', 'NA', 'NA', 'NA', 'Regular drip coffee', 'NA', 'No - just black', 'NA', 'NA', 'NA', 'Complex', 'NA', 'NA', 'NA', 'NA', 'NA', 'NA', 'NA', 'NA', 'NA', 'NA', 'NA', 'NA', 'NA', 'NA', 'NA', 'NA', 'NA', 'NA', 'NA', 'NA', 'NA', 'NA', 'NA', 'NA', 'NA', 'NA', 'NA', 'NA', 'NA', 'NA', 'NA', 'NA', 'NA', 'NA', 'NA', 'NA', 'NA', 'NA', 'NA', 'NA', 'NA', 'NA']\n",
            "['BkPN0e', '25-34 years old', 'NA', 'NA', 'Pod/capsule machine (e.g. Keurig/Nespresso)', 'NA', 'NA', 'NA', 'Iced coffee', 'NA', 'Sugar or sweetener, No - just black', 'NA', 'NA', 'NA', 'Light', 'NA', 'NA', 'NA', 'NA', 'NA', 'NA', 'NA', 'NA', 'NA', 'NA', 'NA', 'NA', 'NA', 'NA', 'NA', 'NA', 'NA', 'NA', 'NA', 'NA', 'NA', 'NA', 'NA', 'NA', 'NA', 'NA', 'NA', 'NA', 'NA', 'NA', 'NA', 'NA', 'NA', 'NA', 'NA', 'NA', 'NA', 'NA', 'NA', 'NA', 'NA', 'NA']\n",
            "['W5G8jj', '25-34 years old', 'NA', 'NA', 'Bean-to-cup machine', 'NA', 'NA', 'NA', 'Regular drip coffee', 'NA', 'No - just black', 'NA', 'NA', 'NA', 'Complex', 'NA', 'NA', 'NA', 'NA', 'NA', 'NA', 'NA', 'NA', 'NA', 'NA', 'NA', 'NA', 'NA', 'NA', 'NA', 'NA', 'NA', 'NA', 'NA', 'NA', 'NA', 'NA', 'NA', 'NA', 'NA', 'NA', 'NA', 'NA', 'NA', 'NA', 'NA', 'NA', 'NA', 'NA', 'NA', 'NA', 'NA', 'NA', 'NA', 'NA', 'NA', 'NA']\n",
            "['4xWgGr', '35-44 years old', 'NA', 'NA', 'Coffee brewing machine (e.g. Mr. Coffee)', 'NA', 'NA', 'NA', 'Iced coffee', 'NA', 'No - just black, Cinnamon', 'NA', 'NA', 'NA', 'Complex', 'NA', 'NA', 'NA', 'NA', 'NA', 'NA', 'NA', 'NA', 'NA', 'NA', 'NA', 'NA', 'NA', 'NA', 'NA', 'NA', 'NA', 'NA', 'NA', 'NA', 'NA', 'NA', 'NA', 'NA', 'NA', 'NA', 'NA', 'NA', 'NA', 'NA', 'NA', 'NA', 'NA', 'NA', 'NA', 'NA', 'NA', 'NA', 'NA', 'NA', 'NA', 'NA']\n",
            "['QD27Q8', '25-34 years old', 'NA', 'NA', 'Pour over', 'NA', 'NA', 'NA', 'Latte', 'NA', 'No - just black', 'NA', 'NA', 'NA', 'Sweet', 'NA', 'NA', 'NA', 'NA', 'NA', 'NA', 'NA', 'NA', 'NA', 'NA', 'NA', 'NA', 'NA', 'NA', 'NA', 'NA', 'NA', 'NA', 'NA', 'NA', 'NA', 'NA', 'NA', 'NA', 'NA', 'NA', 'NA', 'NA', 'NA', 'NA', 'NA', 'NA', 'NA', 'NA', 'NA', 'NA', 'NA', 'NA', 'NA', 'NA', 'NA', 'NA']\n",
            "['V0LPeM', '55-64 years old', 'NA', 'NA', 'Pod/capsule machine (e.g. Keurig/Nespresso), Espresso, French press', 'NA', 'NA', 'NA', 'Iced coffee', 'NA', 'Half & half', 'NA', 'NA', 'NA', 'NA', 'NA', 'NA', 'NA', 'NA', 'NA', 'NA', 'NA', 'NA', 'NA', 'NA', 'NA', 'NA', 'NA', 'NA', 'NA', 'NA', 'NA', 'NA', 'NA', 'NA', 'NA', 'NA', 'NA', 'NA', 'NA', 'NA', 'NA', 'NA', 'NA', 'NA', 'NA', 'NA', 'NA', 'NA', 'NA', 'NA', 'NA', 'NA', 'NA', 'NA', 'NA', 'NA']\n",
            "['V0Gaxg', '18-24 years old', 'NA', 'At a cafe, At the office, At home, On the go', 'Pour over, French press, Espresso, Instant coffee, Pod/capsule machine (e.g. Keurig/Nespresso)', 'NA', 'National chain (e.g. Starbucks, Dunkin), Local cafe, Drive-thru, Specialty coffee shop, Other', 'NA', 'Pourover', 'NA', 'No - just black', 'NA', 'NA', 'NA', 'Complex', 'NA', 'NA', 'NA', 'NA', 'NA', 'NA', 'NA', 'NA', 'NA', 'NA', 'NA', 'NA', 'NA', 'NA', 'NA', 'NA', 'NA', 'NA', 'NA', 'NA', 'NA', 'NA', 'NA', 'NA', 'NA', 'NA', 'NA', 'NA', 'NA', 'NA', 'NA', 'NA', 'NA', 'NA', 'NA', 'NA', 'NA', 'NA', 'NA', 'NA', 'NA', 'NA']\n",
            "['AdzRL0', 'NA', 'NA', 'NA', 'NA', 'NA', 'NA', 'NA', 'NA', 'NA', 'NA', 'NA', 'NA', 'NA', 'NA', 'NA', 'NA', 'NA', 'NA', 'NA', 'NA', 'NA', 'NA', 'NA', 'NA', 'NA', 'NA', 'NA', 'NA', 'NA', 'NA', 'NA', 'NA', 'NA', 'NA', 'NA', 'NA', 'NA', 'NA', 'NA', 'NA', 'NA', 'NA', 'NA', 'NA', 'NA', 'NA', 'NA', 'NA', 'NA', 'NA', 'NA', 'NA', 'NA', 'NA', 'NA', 'NA']\n",
            "['LbWda2', '25-34 years old', 'Less than 1', 'At a cafe', 'NA', 'NA', 'NA', 'NA', 'Regular drip coffee', 'NA', 'No - just black', 'NA', 'NA', 'NA', 'Light', 'NA', 'NA', 'NA', 'NA', '4', '4', '4', 'NA', '4', '4', '4', 'NA', '4', '4', '4', 'NA', '4', '4', '4', 'NA', 'NA', 'NA', 'NA', 'NA', 'NA', 'NA', 'NA', 'NA', 'NA', 'NA', 'NA', 'NA', 'NA', 'NA', 'NA', 'NA', 'NA', 'NA', 'NA', 'NA', 'NA', 'NA']\n",
            "['EXQLWN', 'NA', 'NA', 'NA', 'NA', 'NA', 'NA', 'NA', 'NA', 'NA', 'NA', 'NA', 'NA', 'NA', 'NA', 'NA', 'NA', 'NA', 'NA', 'NA', 'NA', 'NA', 'NA', 'NA', 'NA', 'NA', 'NA', 'NA', 'NA', 'NA', 'NA', 'NA', 'NA', 'NA', 'NA', 'NA', 'NA', 'NA', 'NA', 'NA', 'NA', 'NA', 'NA', 'NA', 'NA', 'NA', 'NA', 'NA', 'NA', 'NA', 'NA', 'NA', 'NA', 'NA', 'NA', 'NA', 'NA']\n",
            "['2eNLJg', '18-24 years old', 'NA', 'NA', 'NA', 'NA', 'NA', 'NA', 'NA', 'NA', 'NA', 'NA', 'NA', 'NA', 'NA', 'NA', 'NA', 'NA', 'NA', 'NA', 'NA', 'NA', 'NA', 'NA', 'NA', 'NA', 'NA', 'NA', 'NA', 'NA', 'NA', 'NA', 'NA', 'NA', 'NA', 'NA', 'NA', 'NA', 'NA', 'NA', 'NA', 'NA', 'NA', 'NA', 'NA', 'NA', 'NA', 'NA', 'NA', 'NA', 'NA', 'NA', 'NA', 'NA', 'NA', 'NA', 'NA']\n",
            "['xpa2K9', 'NA', 'NA', 'NA', 'NA', 'NA', 'NA', 'NA', 'NA', 'NA', 'NA', 'NA', 'NA', 'NA', 'NA', 'NA', 'NA', 'NA', 'NA', 'NA', 'NA', 'NA', 'NA', 'NA', 'NA', 'NA', 'NA', 'NA', 'NA', 'NA', 'NA', 'NA', 'NA', 'NA', 'NA', 'NA', 'NA', 'NA', 'NA', 'NA', 'NA', 'NA', 'NA', 'NA', 'NA', 'NA', 'NA', 'NA', 'NA', 'NA', 'NA', 'NA', 'NA', 'NA', 'NA', 'NA', 'NA']\n",
            "['V00RoJ', 'NA', 'NA', 'NA', 'NA', 'NA', 'NA', 'NA', 'NA', 'NA', 'NA', 'NA', 'NA', 'NA', 'NA', 'NA', 'NA', 'NA', 'NA', 'NA', 'NA', 'NA', 'NA', 'NA', 'NA', 'NA', 'NA', 'NA', 'NA', 'NA', 'NA', 'NA', 'NA', 'NA', 'NA', 'NA', 'NA', 'NA', 'NA', 'NA', 'NA', 'NA', 'NA', 'NA', 'NA', 'NA', 'NA', 'NA', 'NA', 'NA', 'NA', 'NA', 'NA', 'NA', 'NA', 'NA', 'NA']\n",
            "['7WWB4A', '<18 years old', '2', 'On the go, At a cafe, At home, At the office', 'Pour over, Coffee brewing machine (e.g. Mr. Coffee), Espresso, Bean-to-cup machine', 'NA', 'Local cafe, Specialty coffee shop', 'NA', 'Other', 'cortado', 'Milk, dairy alternative, or coffee creamer, Sugar or sweetener, Flavor syrup', 'NA', 'NA', 'NA', 'Full Bodied', 'Somewhat light', 'Light', 'Full caffeine', 'NA', 'NA', 'NA', 'NA', 'NA', 'NA', 'NA', 'NA', 'NA', 'NA', 'NA', 'NA', 'NA', 'NA', 'NA', 'NA', 'NA', 'NA', 'NA', 'NA', 'NA', 'NA', 'NA', 'NA', 'NA', 'NA', 'NA', 'NA', 'NA', 'NA', 'NA', 'NA', 'NA', 'NA', 'NA', 'NA', 'NA', 'NA', 'NA']\n",
            "['pKL8aB', '25-34 years old', '1', 'At the office', 'NA', 'NA', 'NA', 'NA', 'Pourover', 'NA', 'No - just black', 'NA', 'NA', 'NA', 'Fruity', 'Somewhat strong', 'Light', 'Full caffeine', '7', 'NA', 'NA', 'NA', 'NA', 'NA', 'NA', 'NA', 'NA', 'NA', 'NA', 'NA', 'NA', 'NA', 'NA', 'NA', 'NA', 'NA', 'NA', 'NA', 'NA', 'NA', 'NA', 'NA', 'NA', 'NA', 'NA', 'NA', 'NA', 'NA', 'NA', 'NA', 'NA', 'NA', 'NA', 'NA', 'NA', 'NA', 'NA']\n",
            "['Zd694B', '<18 years old', '3', 'At home, At the office, At a cafe', 'Pour over, Espresso, Instant coffee', 'NA', 'NA', 'NA', 'Pourover', 'NA', 'No - just black, Milk, dairy alternative, or coffee creamer', 'NA', 'Whole milk', 'NA', 'Bright', 'Medium', 'Light', 'Full caffeine', '10', '1', '1', '1', 'a', '1', '1', '1', 'b', '1', '1', '1', 'c', '1', '1', '1', 'd', 'Coffee A', 'Coffee D', 'Coffee B', 'I primarily work from home', '>$100', 'NA', 'NA', 'NA', 'NA', 'NA', 'NA', 'NA', 'NA', 'NA', 'Other (please specify)', 'Cis', \"Bachelor's degree\", 'Other (please specify)', 'Alaskan native', 'Employed full-time', 'More than 3', 'Democrat']\n",
            "['QAeYZY', '>65 years old', '3', 'At the office, At a cafe', 'NA', 'NA', 'NA', 'NA', 'Cortado', 'NA', 'No - just black', 'NA', 'NA', 'NA', 'Fruity', 'Somewhat strong', 'Blonde', 'Full caffeine', '7', '3', '3', '3', 'NA', '3', '3', '3', 'NA', '3', '3', '3', 'NA', '3', '3', '3', 'NA', 'Coffee C', 'Coffee D', 'Coffee D', 'NA', 'NA', 'NA', 'NA', 'NA', 'NA', 'NA', 'NA', 'NA', 'NA', 'NA', 'NA', 'NA', 'NA', 'NA', 'NA', 'NA', 'NA', 'NA']\n",
            "['QA5JYA', '25-34 years old', '1', 'At home, At the office, On the go', 'Pour over, Coffee brewing machine (e.g. Mr. Coffee)', 'NA', 'National chain (e.g. Starbucks, Dunkin), Local cafe, Specialty coffee shop', 'NA', 'Regular drip coffee', 'NA', 'Milk, dairy alternative, or coffee creamer, Sugar or sweetener', 'NA', 'Half and half', 'Granulated Sugar, Brown Sugar', 'Sweet', 'Somewhat strong', 'Medium', 'Full caffeine', '6', '3', '3', '3', 'NA', '3', '3', '3', 'NA', '3', '3', '3', 'NA', '3', '3', '3', 'NA', 'Coffee A', 'Coffee A', 'Coffee B', 'I primarily work from home', '$40-$60', 'NA', 'NA', 'NA', 'NA', 'NA', 'NA', 'NA', 'NA', 'NA', 'Female', 'NA', \"Bachelor's degree\", 'White/Caucasian', 'NA', 'Employed full-time', 'None', 'Democrat']\n",
            "['Rz5BPj', '25-34 years old', '2', 'At a cafe', 'NA', 'NA', 'NA', 'NA', 'NA', 'NA', 'NA', 'NA', 'NA', 'NA', 'NA', 'NA', 'NA', 'NA', 'NA', 'NA', 'NA', 'NA', 'NA', 'NA', 'NA', 'NA', 'NA', 'NA', 'NA', 'NA', 'NA', 'NA', 'NA', 'NA', 'NA', 'NA', 'NA', 'NA', 'NA', 'NA', 'NA', 'NA', 'NA', 'NA', 'NA', 'NA', 'NA', 'NA', 'NA', 'NA', 'NA', 'NA', 'NA', 'NA', 'NA', 'NA', 'NA']\n",
            "['jyDqva', '18-24 years old', '2', 'At the office', 'NA', 'NA', 'NA', 'NA', 'Iced coffee', 'NA', 'Milk, dairy alternative, or coffee creamer', 'NA', 'Oat milk', 'NA', 'Nutty', 'Somewhat strong', 'Nordic', 'Full caffeine', '4', '4', '4', '4', 'NA', '4', '4', '4', 'NA', 'NA', '4', '4', 'NA', '4', '4', '4', 'NA', 'NA', 'Coffee D', 'Coffee A', 'NA', 'NA', 'NA', 'NA', 'NA', 'NA', 'NA', 'NA', 'NA', 'NA', 'NA', 'NA', 'NA', 'NA', 'NA', 'NA', 'NA', 'NA', 'NA']\n",
            "['eB7QoJ', '18-24 years old', '3', 'At home', 'Pour over', 'NA', 'NA', 'NA', 'NA', 'NA', 'NA', 'NA', 'NA', 'NA', 'NA', 'NA', 'NA', 'NA', 'NA', 'NA', 'NA', 'NA', 'NA', 'NA', 'NA', 'NA', 'NA', 'NA', 'NA', 'NA', 'NA', 'NA', 'NA', 'NA', 'NA', 'NA', 'NA', 'NA', 'NA', 'NA', 'NA', 'NA', 'NA', 'NA', 'NA', 'NA', 'NA', 'NA', 'NA', 'NA', 'NA', 'NA', 'NA', 'NA', 'NA', 'NA', 'NA']\n",
            "['24xzlg', '18-24 years old', 'NA', 'At home', 'Other', 'Aeropress', 'NA', 'NA', 'Pourover', 'NA', 'No - just black', 'NA', 'NA', 'NA', 'Bright', 'Somewhat light', 'Light', 'Full caffeine', '6', 'NA', 'NA', 'NA', 'NA', 'NA', 'NA', 'NA', 'NA', 'NA', 'NA', 'NA', 'NA', 'NA', 'NA', 'NA', 'NA', 'NA', 'NA', 'NA', 'NA', 'NA', 'NA', 'NA', 'NA', 'NA', 'NA', 'NA', 'NA', 'NA', 'NA', 'NA', 'NA', 'NA', 'NA', 'NA', 'NA', 'NA', 'NA']\n",
            "['DVvoqX', '35-44 years old', 'NA', 'At the office, On the go, At home', 'Espresso', 'NA', 'Local cafe', 'NA', 'Cappuccino', 'NA', 'Milk, dairy alternative, or coffee creamer', 'NA', 'Oat milk', 'NA', 'Caramalized', 'Somewhat strong', 'Medium', 'Full caffeine', '9', 'NA', 'NA', 'NA', 'NA', 'NA', 'NA', 'NA', 'NA', 'NA', 'NA', 'NA', 'NA', 'NA', 'NA', 'NA', 'NA', 'NA', 'NA', 'NA', 'NA', 'NA', 'NA', 'NA', 'NA', 'NA', 'NA', 'NA', 'NA', 'NA', 'NA', 'NA', 'NA', 'NA', 'NA', 'NA', 'NA', 'NA', 'NA']\n",
            "['1r2YJQ', '25-34 years old', 'More than 4', 'At the office, At home, At a cafe, On the go', 'Coffee extract (e.g. Cometeer)', 'NA', 'National chain (e.g. Starbucks, Dunkin), Specialty coffee shop, Local cafe', 'NA', 'Regular drip coffee', 'NA', 'No - just black', 'NA', 'NA', 'NA', 'Bold', 'Very strong', 'NA', 'Full caffeine', '8', 'NA', 'NA', 'NA', 'NA', 'NA', 'NA', 'NA', 'NA', 'NA', 'NA', 'NA', 'NA', 'NA', 'NA', 'NA', 'NA', 'NA', 'NA', 'NA', 'NA', 'NA', 'NA', 'NA', 'NA', 'NA', 'NA', 'NA', 'NA', 'NA', 'NA', 'NA', 'NA', 'NA', 'NA', 'NA', 'NA', 'NA', 'NA']\n",
            "['24xYOV', '45-54 years old', '1', 'At home', 'Pour over', 'NA', 'NA', 'NA', 'Regular drip coffee', 'NA', 'No - just black', 'NA', 'NA', 'NA', 'Fruity', 'Medium', 'Light', 'Full caffeine', '5', 'NA', 'NA', 'NA', 'NA', 'NA', 'NA', 'NA', 'NA', 'NA', 'NA', 'NA', 'NA', 'NA', 'NA', 'NA', 'NA', 'NA', 'NA', 'NA', 'NA', 'NA', 'NA', 'NA', 'NA', 'NA', 'NA', 'NA', 'NA', 'NA', 'NA', 'NA', 'NA', 'NA', 'NA', 'NA', 'NA', 'NA', 'NA']\n",
            "['AlbYao', '18-24 years old', '2', 'At the office, At home', 'Pod/capsule machine (e.g. Keurig/Nespresso), French press', 'NA', 'NA', 'NA', 'Latte', 'NA', 'Flavor syrup, Milk, dairy alternative, or coffee creamer', 'NA', 'Whole milk', 'NA', 'Full Bodied', 'Somewhat strong', 'Medium', 'Full caffeine', '7', 'NA', 'NA', 'NA', 'NA', 'NA', 'NA', 'NA', 'NA', 'NA', 'NA', 'NA', 'NA', 'NA', 'NA', 'NA', 'NA', 'NA', 'NA', 'NA', 'NA', 'NA', 'NA', 'NA', 'NA', 'NA', 'NA', 'NA', 'NA', 'NA', 'NA', 'NA', 'NA', 'NA', 'NA', 'NA', 'NA', 'NA', 'NA']\n",
            "['J2krYz', '35-44 years old', '1', 'At home, At a cafe', 'Pour over, Espresso', 'NA', 'NA', 'NA', 'Pourover', 'NA', 'No - just black', 'NA', 'NA', 'NA', 'Fruity', 'NA', 'Medium', 'Full caffeine', '7', 'NA', 'NA', 'NA', 'NA', 'NA', 'NA', 'NA', 'NA', 'NA', 'NA', 'NA', 'NA', 'NA', 'NA', 'NA', 'NA', 'NA', 'NA', 'NA', 'NA', 'NA', 'NA', 'NA', 'NA', 'NA', 'NA', 'NA', 'NA', 'NA', 'NA', 'NA', 'NA', 'NA', 'NA', 'NA', 'NA', 'NA', 'NA']\n",
            "['WAp6ak', 'NA', 'NA', 'NA', 'NA', 'NA', 'NA', 'NA', 'NA', 'NA', 'NA', 'NA', 'NA', 'NA', 'NA', 'NA', 'NA', 'NA', 'NA', 'NA', 'NA', 'NA', 'NA', 'NA', 'NA', 'NA', 'NA', 'NA', 'NA', 'NA', 'NA', 'NA', 'NA', 'NA', 'NA', 'NA', 'NA', 'NA', 'NA', 'NA', 'NA', 'NA', 'NA', 'NA', 'NA', 'NA', 'NA', 'NA', 'NA', 'NA', 'NA', 'NA', 'NA', 'NA', 'NA', 'NA', 'NA']\n",
            "['aBr18q', '25-34 years old', '3', 'At home, On the go', 'NA', 'NA', 'NA', 'NA', 'NA', 'NA', 'NA', 'NA', 'NA', 'NA', 'NA', 'NA', 'NA', 'NA', 'NA', 'NA', 'NA', 'NA', 'NA', 'NA', 'NA', 'NA', 'NA', 'NA', 'NA', 'NA', 'NA', 'NA', 'NA', 'NA', 'NA', 'NA', 'NA', 'NA', 'NA', 'NA', 'NA', 'NA', 'NA', 'NA', 'NA', 'NA', 'NA', 'NA', 'NA', 'NA', 'NA', 'NA', 'NA', 'NA', 'NA', 'NA', 'NA']\n"
          ]
        }
      ]
    },
    {
      "cell_type": "code",
      "source": [
        "\n",
        "# Prueba\n",
        "# Complete para que la respuestas sean las que figuran aqui debajo\n",
        "\n",
        "#Respuestas esperadas:\n",
        "#Conteo de cups: {'Less than 1': 348, '2': 1663, '1': 1277, '3': 473, 'More than 4': 67, '4': 121}\n",
        "#Conteo de brew: {'Pod/capsule machine (e.g. Keurig/Nespresso)': 336, 'Bean-to-cup machine': 84, 'Coffee brewing machine (e.g. Mr. Coffee)': 663, 'Pour over': 2295, 'Espresso': 1518, 'French press': 735, 'Instant coffee': 130, 'Other': 677, 'Coffee extract (e.g. Cometeer)': 186, 'Cold brew': 525}\n"
      ],
      "metadata": {
        "id": "_EzjWj8ZXewE"
      },
      "execution_count": null,
      "outputs": []
    },
    {
      "cell_type": "markdown",
      "source": [
        "## **Etapa 2.**\n",
        "**Carga de la Información de los Consumidores**"
      ],
      "metadata": {
        "id": "xambSO-eXntO"
      }
    },
    {
      "cell_type": "markdown",
      "source": [
        "**7-** Definir una clase **Consumidor** que tenga los siguientes\n",
        "\n",
        "  - Atributos:\n",
        "\n",
        "    `submission_id`: Identificador único del consumidor.\n",
        "\n",
        "    `age`: Rango de edad (str).\n",
        "\n",
        "    `gender`: Género (str).\n",
        "\n",
        "    `cups`: Número de tazas que consume por día (str).\n",
        "\n",
        "    `where_drink`: Lugares donde consume café (list[str]).\n",
        "\n",
        "    `favorite`: Café preferido (str).\n",
        "\n",
        "    `roast_level`: Nivel de tueste (str).\n",
        "\n",
        "    `caffeine`: Tipo de cafeína (str).\n",
        "\n",
        "    `education_level`: Nivel de educación (str).\n",
        "\n",
        "    `employment_status`: Estado o situación laboral (str).\n",
        "\n",
        "  - Métodos:\n",
        "\n",
        "    `__init__`: Para inicializar los atributos.\n",
        "\n",
        "    `__str__`: Para representar al consumidor de manera legible.\n",
        "\n",
        "  Complete el siguiente código. Agregue todos los argumentos que necesite a los métodos."
      ],
      "metadata": {
        "id": "RVjpGTsrXvCJ"
      }
    },
    {
      "cell_type": "code",
      "source": [
        "class Consumidor:\n",
        "\n",
        "  def __init__(self, submission_id, age:int, gender:str, cups:str, where_drink:list[str], favorite:str, roast_level:str, caffeine:str, education_level:str, employment_status:str):\n",
        "    self.submission_id = submission_id\n",
        "    self.age = age\n",
        "    self.gender = gender\n",
        "    self.cups = cups\n",
        "    self.where_drink = where_drink\n",
        "    self.favorite = favorite\n",
        "    self.roast_level = roast_level\n",
        "    self.caffeine = caffeine\n",
        "    self.education_level = education_level\n",
        "    self.employment_status = employment_status\n",
        "\n",
        "  def __str__(self):\n",
        "    return f\"identificador:{self.submission_id}, edad:{self.age}, lugar favorito para consumir:{self.favorite}, nivel de educacion:{self.education_level}\"\n",
        "\n",
        "consumidor1 = Consumidor(21304,22,\"hombre\",\"3\",[\"mi ksa\", \"la facu\", \"el parque\"], \"mi ksa\", \"amargo como la realidad\", \"promedio\", \"estudiante de facultad\", \"profe de matematica\" )\n",
        "print(consumidor1)"
      ],
      "metadata": {
        "id": "fbApxNk0XwFW",
        "colab": {
          "base_uri": "https://localhost:8080/"
        },
        "outputId": "604afeba-ad65-4701-ef5a-01da865e7e6f"
      },
      "execution_count": 16,
      "outputs": [
        {
          "output_type": "stream",
          "name": "stdout",
          "text": [
            "identificador:21304, edad:22, lugar favorito para consumir:mi ksa, nivel de educacion:estudiante de facultad\n"
          ]
        }
      ]
    },
    {
      "cell_type": "markdown",
      "source": [
        "**8-** Implemente una función llamada **cargar_consumidores** que reciba como argumento el nombre del archivo de la encuesta y devuelva un diccionario donde la clave sea el `submission_id` (ID del consumidor) y el valor sea una instancia de la clase `Consumidor`."
      ],
      "metadata": {
        "id": "Sxs8Pi0kXzX_"
      }
    },
    {
      "cell_type": "code",
      "source": [
        "def cargar_consumidores(archivo:str) -> dict[str,'Consumidor']:\n",
        "  encuesta = open(archivo, \"r\")\n",
        "  lector = list(csv.reader(encuesta))\n",
        "  requeridos = [\"submission_id\", \"age\", \"gender\",\"cups\",\"where_drink\",\"favorite\",\"roast_level\",\"caffeine\",\"education_level\",\"employment_status\"  ]\n",
        "  #quiero buscar los indices de cada una de estas cosas en numero, una vez que los tenga voy a poder para cada requerido seleccionarlos, validar que no sean na y meterlos como atributo a mis objetos\n",
        "  #luego meterlos dentro de un diccionario\n",
        "  numeros_de_filas = []\n",
        "\n",
        "  for requerido in requeridos:\n",
        "    numero = lector[0].index(requerido)\n",
        "    numeros_de_filas.append(numero)\n",
        "\n",
        "  consumidores = {}\n",
        "  for fila in lector[1:20]:\n",
        "\n",
        "    atributos = []\n",
        "    for atributo in numeros_de_filas:\n",
        "      if fila[atributo] == \"NA\":\n",
        "        atributos.append(\"No responde\")\n",
        "      else:\n",
        "        atributos.append(fila[atributo])\n",
        "\n",
        "    consumidor_a_agregar = Consumidor(*atributos)\n",
        "    consumidores[fila[0]] = consumidor_a_agregar\n",
        "\n",
        "  return consumidores\n",
        "\n",
        "\n",
        "  #para poder hacer esto primero tengo que crear los objetos de tipo consumidor\n",
        "  #for fila in lector:\n",
        "  #  consumidores[fila[0]] =\n",
        "\n",
        "\n",
        "#se me ocurre que otra forma de hacerlo es sacando todos los elementos de todas las filas con la funcion de la etapa 1\n",
        "#y trabajar con los dict.values() dentro de una funcion zip con un for\n",
        "\n",
        "consumidores = cargar_consumidores(\"coffee_survey.csv\")\n",
        "print(consumidores)\n",
        "for consumidor in consumidores.values():\n",
        "  print(consumidor)"
      ],
      "metadata": {
        "id": "8QB2NyYeX3nn",
        "colab": {
          "base_uri": "https://localhost:8080/"
        },
        "outputId": "184f34a9-b5e6-498f-8792-a108cb3cd9c1"
      },
      "execution_count": 37,
      "outputs": [
        {
          "output_type": "stream",
          "name": "stdout",
          "text": [
            "{'gMR29l': <__main__.Consumidor object at 0x7bb86d4aba10>, 'BkPN0e': <__main__.Consumidor object at 0x7bb86d4aba90>, 'W5G8jj': <__main__.Consumidor object at 0x7bb86d4ab990>, '4xWgGr': <__main__.Consumidor object at 0x7bb86d4abad0>, 'QD27Q8': <__main__.Consumidor object at 0x7bb86d4abb10>, 'V0LPeM': <__main__.Consumidor object at 0x7bb86d4abb50>, 'V0Gaxg': <__main__.Consumidor object at 0x7bb86d4abb90>, 'AdzRL0': <__main__.Consumidor object at 0x7bb86d4abbd0>, 'LbWda2': <__main__.Consumidor object at 0x7bb86d4abc10>, 'EXQLWN': <__main__.Consumidor object at 0x7bb86d4abc50>, '2eNLJg': <__main__.Consumidor object at 0x7bb86d4abc90>, 'xpa2K9': <__main__.Consumidor object at 0x7bb86d4abcd0>, 'V00RoJ': <__main__.Consumidor object at 0x7bb86d4abd10>, '7WWB4A': <__main__.Consumidor object at 0x7bb86d4abd50>, 'pKL8aB': <__main__.Consumidor object at 0x7bb86d4abd90>, 'Zd694B': <__main__.Consumidor object at 0x7bb86d4abe10>, 'QAeYZY': <__main__.Consumidor object at 0x7bb86d4abe50>, 'QA5JYA': <__main__.Consumidor object at 0x7bb86d4abe90>, 'Rz5BPj': <__main__.Consumidor object at 0x7bb86d4abdd0>}\n",
            "identificador:gMR29l, edad:18-24 years old, lugar favorito para consumir:Regular drip coffee, nivel de educacion:No responde\n",
            "identificador:BkPN0e, edad:25-34 years old, lugar favorito para consumir:Iced coffee, nivel de educacion:No responde\n",
            "identificador:W5G8jj, edad:25-34 years old, lugar favorito para consumir:Regular drip coffee, nivel de educacion:No responde\n",
            "identificador:4xWgGr, edad:35-44 years old, lugar favorito para consumir:Iced coffee, nivel de educacion:No responde\n",
            "identificador:QD27Q8, edad:25-34 years old, lugar favorito para consumir:Latte, nivel de educacion:No responde\n",
            "identificador:V0LPeM, edad:55-64 years old, lugar favorito para consumir:Iced coffee, nivel de educacion:No responde\n",
            "identificador:V0Gaxg, edad:18-24 years old, lugar favorito para consumir:Pourover, nivel de educacion:No responde\n",
            "identificador:AdzRL0, edad:No responde, lugar favorito para consumir:No responde, nivel de educacion:No responde\n",
            "identificador:LbWda2, edad:25-34 years old, lugar favorito para consumir:Regular drip coffee, nivel de educacion:No responde\n",
            "identificador:EXQLWN, edad:No responde, lugar favorito para consumir:No responde, nivel de educacion:No responde\n",
            "identificador:2eNLJg, edad:18-24 years old, lugar favorito para consumir:No responde, nivel de educacion:No responde\n",
            "identificador:xpa2K9, edad:No responde, lugar favorito para consumir:No responde, nivel de educacion:No responde\n",
            "identificador:V00RoJ, edad:No responde, lugar favorito para consumir:No responde, nivel de educacion:No responde\n",
            "identificador:7WWB4A, edad:<18 years old, lugar favorito para consumir:Other, nivel de educacion:No responde\n",
            "identificador:pKL8aB, edad:25-34 years old, lugar favorito para consumir:Pourover, nivel de educacion:No responde\n",
            "identificador:Zd694B, edad:<18 years old, lugar favorito para consumir:Pourover, nivel de educacion:Bachelor's degree\n",
            "identificador:QAeYZY, edad:>65 years old, lugar favorito para consumir:Cortado, nivel de educacion:No responde\n",
            "identificador:QA5JYA, edad:25-34 years old, lugar favorito para consumir:Regular drip coffee, nivel de educacion:Bachelor's degree\n",
            "identificador:Rz5BPj, edad:25-34 years old, lugar favorito para consumir:No responde, nivel de educacion:No responde\n"
          ]
        }
      ]
    },
    {
      "cell_type": "markdown",
      "source": [
        "**9-** Implemente una función llamada **filtrar_por_atributo_valor** que reciba un diccionario de consumidores como el creado en el punto anterior, un nombre de atributo (cualquiera de los atributos presentes en la clase Consumidor) y un valor de dicho atributo como argumentos. La función debe recorrer el diccionario y filtrar los consumidores, devolviendo otro diccionario cuyos consumidores hayan pasado el filtro aplicado."
      ],
      "metadata": {
        "id": "jFhm2YvbYK24"
      }
    },
    {
      "cell_type": "code",
      "source": [
        "def filtrar_por_atributo_valor(cons:dict[str,'Consumidor'], atributo:str, valor:str) -> dict[str,'Consumidor']:\n",
        "  pass"
      ],
      "metadata": {
        "id": "CsYlUEuQYVJe"
      },
      "execution_count": null,
      "outputs": []
    },
    {
      "cell_type": "markdown",
      "source": [
        "**10-** Invocando a las funciones anteriores, ¿podría crear un diccionario que corresponda a los consumidores de género femenino (*Female*) cuya edad supere los 44 años?"
      ],
      "metadata": {
        "id": "64TgRsRhYmLs"
      }
    },
    {
      "cell_type": "code",
      "source": [],
      "metadata": {
        "id": "gHv_59gpYnE_"
      },
      "execution_count": null,
      "outputs": []
    }
  ]
}